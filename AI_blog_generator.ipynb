{
 "cells": [
  {
   "cell_type": "code",
   "execution_count": 23,
   "id": "1108eb48",
   "metadata": {},
   "outputs": [],
   "source": [
    "import os\n",
    "from dotenv import load_dotenv\n",
    "load_dotenv()\n",
    "\n",
    "os.environ[\"GROQ_API_KEY\"]=os.getenv(\"groq_api_key\")\n",
    "os.environ[\"OPENAI_API_KEY\"]=os.getenv(\"OPENAI_API_KEY\")"
   ]
  },
  {
   "cell_type": "code",
   "execution_count": 24,
   "id": "7cc6f3dd",
   "metadata": {},
   "outputs": [],
   "source": [
    "from langchain_openai import ChatOpenAI\n",
    "llm=ChatOpenAI(model=\"gpt-4o\")\n",
    "\n",
    "from langgraph.graph import MessagesState\n",
    "from typing_extensions import TypedDict\n",
    "from langchain_core.messages import AnyMessage\n",
    "from typing import Annotated\n",
    "from langgraph.graph.message import add_messages\n"
   ]
  },
  {
   "cell_type": "code",
   "execution_count": 61,
   "id": "b0112a81",
   "metadata": {},
   "outputs": [],
   "source": [
    "class MessagesState(TypedDict):\n",
    "    messages: Annotated[list[AnyMessage], add_messages]\n",
    "    \n"
   ]
  },
  {
   "cell_type": "code",
   "execution_count": 76,
   "id": "df3c9afc",
   "metadata": {},
   "outputs": [],
   "source": [
    "from langchain_core.messages import HumanMessage, SystemMessage\n",
    "from langchain_core.prompts import ChatPromptTemplate\n",
    "import re\n",
    "\n",
    "# SystemMessage\n",
    "\n",
    "sys_message = SystemMessage(content = 'You are a AI blog writer. You will be given a topic and you will create a catchy title for the {topic}')\n",
    "sys_message1 = SystemMessage(content = ' You are an expert AI blog writer. You will write a detailed blog based on the {title}. You will generate the blog in 3 different sections:\\\n",
    "    1. Introduction (a brief introduction to the topic and stating the importance of the topic. This will be within 50 to 75 words)\\\n",
    "    2. Main body content containing technical problems and solution or a detailed explanation of the topic within 350 words.\\\n",
    "    3. Conclusion (a brief conclusion to the topic and stating the importance of the topic. This will be within 50 to 75 words)')\n",
    "sys_message2 = SystemMessage(content = 'You are expert Editor who is been assigned to review the blog title and the main body content.\\\n",
    "    If everything is fine, then you will provide good blog as feedback.\\\n",
    "    If title is not catchy, then you will provide a change title as feedback.\\\n",
    "    If main body content is not good, then you will provide a change content as feedback.')\n",
    " \n",
    "    \n",
    "# def blog_assistant(state: MessagesState):\n",
    "#     return {\"messages\": [sys_message] + state[\"messages\"]}\n",
    "\n",
    "def title_creator(state:MessagesState): \n",
    "    '''Create a title for the blog post based on the messages in the state'''\n",
    "    title = llm.invoke([sys_message] + state['messages'] )\n",
    "    \n",
    "    return {\"message\": state['messages'] + [title] }\n",
    "    \n",
    "    \n",
    "def content_creator(state: MessagesState):\n",
    "    ''' Create a content for the blog based on the title'''\n",
    "    \n",
    "    \n",
    "    title = state[\"messages\"][-1]\n",
    "    \n",
    "    main_body = llm.invoke([sys_message1, title])\n",
    "    return {'messages':  state['messages']+ [main_body]}\n",
    "\n",
    "\n",
    "def editor(state: MessagesState):\n",
    "    '''Review the blog title and content'''\n",
    "    messages = state[\"messages\"]\n",
    "    \n",
    "    title = messages[-2].content\n",
    "    print(title)\n",
    "    content = messages[-1].content\n",
    "    print(content)\n",
    "    \n",
    "    editor_feedback = llm.invoke([sys_message2, title, content])\n",
    "    match = re.search(r\"\\b(approved|change_title|change_content)\\b\", editor_feedback.content.lower())\n",
    "\n",
    "    feedback = match.group(1)\n",
    "   \n",
    "    \n",
    "    \n",
    "    valid_feedback = [\"approved\", \"change_title\", \"change_content\"]\n",
    "    if feedback not in valid_feedback:\n",
    "        raise ValueError(f\" Unexpected feedback from LLM: {feedback}\")\n",
    "\n",
    "    return {\"editor_feedback\": feedback}\n",
    "    \n",
    "    \n",
    "\n",
    "def editor_decision(state:MessagesState):\n",
    "    '''Check if the editor has provided a good blog or not'''\n",
    "    messages = state['messages']\n",
    "    \n",
    "    feedback = state['editor_feedback']\n",
    "    \n",
    "     \n",
    "    \n",
    "    if feedback == 'approved':\n",
    "        return 'Accepted'\n",
    "    \n",
    "    if feedback == 'change title':\n",
    "        return 'Change Title'\n",
    "    \n",
    "    if feedback == 'change content':\n",
    "        return 'Improve Content'\n",
    "    \n",
    "    \n",
    "    \n",
    "\n",
    "\n",
    "\n",
    "\n",
    "\n"
   ]
  },
  {
   "cell_type": "code",
   "execution_count": 77,
   "id": "a7c83df2",
   "metadata": {},
   "outputs": [
    {
     "data": {
      "image/png": "[encoded data removed]",
      "text/plain": [
       "<IPython.core.display.Image object>"
      ]
     },
     "metadata": {},
     "output_type": "display_data"
    }
   ],
   "source": [
    "from langgraph.graph import StateGraph, START, END\n",
    "from IPython.display import Image, display\n",
    "from langgraph.checkpoint.memory import MemorySaver\n",
    "\n",
    "\n",
    "memory = MemorySaver()\n",
    "builder = StateGraph(MessagesState)\n",
    "\n",
    "# builder.add_node(\"assistant\", blog_assistant)\n",
    "builder.add_node(\"title_creator\", title_creator)\n",
    "builder.add_node(\"content_creator\", content_creator)\n",
    "builder.add_node(\"editor\", editor)\n",
    "\n",
    "builder.add_edge(START, \"title_creator\")\n",
    "builder.add_edge(\"title_creator\", \"content_creator\")\n",
    "builder.add_edge(\"content_creator\", \"editor\")\n",
    "builder.add_conditional_edges('editor', editor_decision, {\n",
    "    'Accepted': END,\n",
    "    'Change Title': \"title_creator\",\n",
    "    'Improve Content': \"content_creator\"\n",
    "}\n",
    ")\n",
    "\n",
    "\n",
    "blog_graph = builder.compile(interrupt_before= ['editor'],checkpointer=memory)\n",
    "\n",
    "display(Image(blog_graph.get_graph().draw_mermaid_png()))\n",
    "\n",
    "\n",
    "\n"
   ]
  },
  {
   "cell_type": "code",
   "execution_count": 78,
   "id": "afe4d3d9",
   "metadata": {},
   "outputs": [],
   "source": [
    "messages = {\"messages\":HumanMessage(content=\"Write a blog post about playing outdoor sports\")}\n",
    "thread = {'configurable':{'thread_id': '1'}}\n"
   ]
  },
  {
   "cell_type": "code",
   "execution_count": 79,
   "id": "f97583dd",
   "metadata": {},
   "outputs": [
    {
     "name": "stdout",
     "output_type": "stream",
     "text": [
      "================================\u001b[1m Human Message \u001b[0m=================================\n",
      "\n",
      "Write a blog post about playing outdoor sports\n",
      "==================================\u001b[1m Ai Message \u001b[0m==================================\n",
      "\n",
      "**Title: The Importance of Playing Outdoor Sports**\n",
      "\n",
      "**Introduction:**\n",
      "\n",
      "Playing outdoor sports is not just a recreational activity; it's a vital component of a healthy lifestyle. Engaging in outdoor sports can improve physical health, mental well-being, and social skills. Whether it's team sports like soccer and basketball or individual pursuits like running and cycling, outdoor sports offer a myriad of benefits that enhance the quality of life.\n",
      "\n",
      "**Main Body:**\n",
      "\n",
      "Outdoor sports are a fantastic way to stay physically active and maintain fitness levels. They help in building endurance, muscle strength, and cardiovascular health. Engaging in such activities regularly can reduce the risk of chronic diseases, such as heart disease, diabetes, and obesity. Moreover, the exposure to fresh air and sunlight boosts vitamin D levels, which are crucial for bone health and immune function.\n",
      "\n",
      "Aside from physical benefits, outdoor sports also play a significant role in promoting mental health. The natural environment aids in reducing stress and anxiety levels. Physical activity releases endorphins, often referred to as 'feel-good hormones', which improve mood and can even alleviate symptoms of mild depression. Additionally, being in a team sport encourages camaraderie, cooperation, and the development of communication skills.\n",
      "\n",
      "Outdoor sports also aid in personal development and life skills. They teach discipline, time management, and the importance of hard work and perseverance. Whether it's mastering a new technique in tennis or learning the rules of rugby, each sport offers unique challenges that require dedication and commitment.\n",
      "\n",
      "Furthermore, outdoor sports provide an excellent opportunity to connect with nature and people. They allow individuals to break free from the confines of technology-driven lives and enjoy the simplicity and beauty of the natural world. Socially, sports create a sense of community, bringing together people of diverse backgrounds to share experiences and forge lasting friendships.\n",
      "\n",
      "**Conclusion:**\n",
      "\n",
      "Incorporating outdoor sports into your routine can significantly enhance both physical and mental well-being. The myriad of benefits they offer, from health improvements to personal development and social connection, underscores their importance in our lives. Whether you're looking for a competitive outlet or a way to unwind in nature, outdoor sports are an invaluable part of a balanced lifestyle.\n"
     ]
    }
   ],
   "source": [
    "for event in blog_graph.stream(messages, thread, stream_mode = 'values'):\n",
    "    event['messages'][-1].pretty_print()"
   ]
  },
  {
   "cell_type": "code",
   "execution_count": null,
   "id": "1ee01bf9",
   "metadata": {},
   "outputs": [],
   "source": []
  }
 ],
 "metadata": {
  "kernelspec": {
   "display_name": "Python 3",
   "language": "python",
   "name": "python3"
  },
  "language_info": {
   "codemirror_mode": {
    "name": "ipython",
    "version": 3
   },
   "file_extension": ".py",
   "mimetype": "text/x-python",
   "name": "python",
   "nbconvert_exporter": "python",
   "pygments_lexer": "ipython3",
   "version": "3.12.0"
  }
 },
 "nbformat": 4,
 "nbformat_minor": 5
}
